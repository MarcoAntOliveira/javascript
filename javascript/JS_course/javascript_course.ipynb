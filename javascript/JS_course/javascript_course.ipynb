{
 "cells": [
  {
   "cell_type": "code",
   "execution_count": null,
   "metadata": {
    "vscode": {
     "languageId": "html"
    }
   },
   "outputs": [],
   "source": [
    "// codigo em html \n",
    "<!DOCTYPE html>\n",
    "<html lang=\"en\">\n",
    "<head>\n",
    "    <meta charset=\"UTF-8\">\n",
    "    <meta http-equiv=\"X-UA-Compatible\" content=\"IE=edge\">\n",
    "    <meta name=\"viewport\" content=\"width=device-width, initial-scale=1.0\">\n",
    "    // parte do código referente ao css \n",
    "    <title>Document</title>\n",
    "</head>\n",
    "<body>\n",
    "    //Título\n",
    "    <h1></h1> \n",
    "\n",
    "    //paragráfo \n",
    "    <p> </p>\n",
    "    // parte  referente a javascript \n",
    "    <script> \n",
    "    </script>\n",
    "    \n",
    "</body>\n",
    "</html>"
   ]
  },
  {
   "attachments": {},
   "cell_type": "markdown",
   "metadata": {},
   "source": [
    "O que faz javascript?\n",
    "client -> captura dados de um servidor, maquinas de alta performance\n",
    "\n",
    "servidor -> fornece uma copia dos dados pedido pelo client \n"
   ]
  },
  {
   "attachments": {},
   "cell_type": "markdown",
   "metadata": {},
   "source": [
    "bibliografia\n",
    "javascript - guia definitivo\n",
    "javascript - guia do programador\n",
    "Ecma - guia de referencia mozila\n",
    "developer.mozilla.org\n",
    "ecmainternational.org\n",
    "ecma sixth edition"
   ]
  }
 ],
 "metadata": {
  "kernelspec": {
   "display_name": "Python 3",
   "language": "python",
   "name": "python3"
  },
  "language_info": {
   "name": "python",
   "version": "3.11.0 (main, Oct 24 2022, 18:26:48) [MSC v.1933 64 bit (AMD64)]"
  },
  "orig_nbformat": 4,
  "vscode": {
   "interpreter": {
    "hash": "c261aea317cc0286b3b3261fbba9abdec21eaa57589985bb7a274bf54d6cc0a7"
   }
  }
 },
 "nbformat": 4,
 "nbformat_minor": 2
}
